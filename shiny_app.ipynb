{
 "cells": [
  {
   "cell_type": "code",
   "execution_count": 1,
   "id": "b0a3834b-d46e-4b8f-9765-05a74a878bcc",
   "metadata": {
    "tags": []
   },
   "outputs": [
    {
     "name": "stderr",
     "output_type": "stream",
     "text": [
      "also installing the dependencies ‘fontawesome’, ‘htmltools’\n",
      "\n",
      "\n",
      "Updating HTML index of packages in '.Library'\n",
      "\n",
      "Making 'packages.html' ...\n",
      " done\n",
      "\n"
     ]
    }
   ],
   "source": [
    "install.packages(\"shiny\")"
   ]
  },
  {
   "cell_type": "code",
   "execution_count": 1,
   "id": "ca6e4701-59fc-46c6-a490-f90360c7b69a",
   "metadata": {
    "tags": []
   },
   "outputs": [
    {
     "data": {
      "text/plain": [
       "[1] ‘0.5.5’"
      ]
     },
     "metadata": {},
     "output_type": "display_data"
    }
   ],
   "source": [
    "packageVersion(\"htmltools\")\n"
   ]
  },
  {
   "cell_type": "code",
   "execution_count": 2,
   "id": "338487cd-9d6d-474b-be0e-938cc580fac2",
   "metadata": {
    "tags": []
   },
   "outputs": [
    {
     "name": "stderr",
     "output_type": "stream",
     "text": [
      "Updating HTML index of packages in '.Library'\n",
      "\n",
      "Making 'packages.html' ...\n",
      " done\n",
      "\n"
     ]
    }
   ],
   "source": [
    "install.packages(\"htmltools\")\n"
   ]
  },
  {
   "cell_type": "code",
   "execution_count": null,
   "id": "af6752e3-feb0-4f0f-b62d-c2c19eb59c97",
   "metadata": {
    "tags": []
   },
   "outputs": [
    {
     "name": "stderr",
     "output_type": "stream",
     "text": [
      "\n",
      "Listening on http://127.0.0.1:5325\n",
      "\n"
     ]
    }
   ],
   "source": [
    "library(shiny)\n",
    "\n",
    "# Define UI for application that draws a histogram\n",
    "ui <- fluidPage(\n",
    "\n",
    "    # Application title\n",
    "    titlePanel(\"Regrex_Scatterplot\"),\n",
    "\n",
    "    # Sidebar with a slider input for number of bins \n",
    "    sidebarLayout(\n",
    "        sidebarPanel(\n",
    "\n",
    "            \n",
    "            # Input: Select a file ----\n",
    "            fileInput(\"file1\", \"Choose CSV File\",\n",
    "                      multiple = FALSE,\n",
    "                      accept = c(\"text/csv\",\n",
    "                                 \"text/comma-separated-values,text/plain\",\n",
    "                                 \".csv\")),\n",
    "            \n",
    "            # Horizontal line ----\n",
    "            tags$hr(),\n",
    "            \n",
    "            # Input: Checkbox if file has header ----\n",
    "            checkboxInput(\"header\", \"Header\", TRUE),\n",
    "            \n",
    "            # Input: Select separator ----\n",
    "            radioButtons(\"sep\", \"Separator\",\n",
    "                         choices = c(Comma = \",\",\n",
    "                                     Semicolon = \";\",\n",
    "                                     Tab = \"\\t\"),\n",
    "                         selected = \",\"),\n",
    "            \n",
    "            # Input: Select quotes ----\n",
    "            radioButtons(\"quote\", \"Quote\",\n",
    "                         choices = c(None = \"\",\n",
    "                                     \"Double Quote\" = '\"',\n",
    "                                     \"Single Quote\" = \"'\"),\n",
    "                         selected = '\"'),\n",
    "            \n",
    "            # Horizontal line ----\n",
    "            tags$hr(),\n",
    "            \n",
    "            # Input: Select number of rows to display ----\n",
    "            radioButtons(\"disp\", \"Display\",\n",
    "                         choices = c(Head = \"head\",\n",
    "                                     All = \"all\"),\n",
    "                         selected = \"head\")\n",
    "        ),\n",
    "\n",
    "        # Show a plot of the generated distribution\n",
    "        mainPanel(\n",
    "           plotOutput(\"distPlot\"),\n",
    "           plotOutput(\"lmPlot\"),\n",
    "           tableOutput(\"contents\")\n",
    "        )\n",
    "    )\n",
    ")\n",
    "\n",
    "# Define server logic required to draw a histogram\n",
    "server <- function(input, output) {\n",
    "\n",
    "    dataInput <- reactive({\n",
    "        req(input$file1)\n",
    "        \n",
    "        df <- read.csv(input$file1$datapath,\n",
    "                       header = input$header,\n",
    "                       sep = input$sep,\n",
    "                       quote = input$quote)\n",
    "        return(df)\n",
    "    })\n",
    "    \n",
    "    # output$distPlot <- renderPlot({\n",
    "    #     # generate bins based on input$bins from ui.R\n",
    "    #     x    <- faithful[, 2]\n",
    "    #     bins <- seq(min(x), max(x), length.out = input$bins + 1)\n",
    "    #     print(bins)\n",
    "    #     # draw the histogram with the specified number of bins\n",
    "    #     hist(x, breaks = bins, col = 'darkgray', border = 'white')\n",
    "    # })\n",
    "    # \n",
    "    \n",
    "    output$distPlot <- renderPlot({\n",
    "        plot(dataInput()$x,dataInput()$y)\n",
    "    })\n",
    "    \n",
    "    output$lmtPlot <- renderPlot({\n",
    "        plot(dataInput()$x,dataInput()$y)\n",
    "    })\n",
    "    \n",
    "    \n",
    "    output$contents <- renderTable({\n",
    "        \n",
    "        # input$file1 will be NULL initially. After the user selects\n",
    "        # and uploads a file, head of that data file by default,\n",
    "        # or all rows if selected, will be shown.\n",
    "        \n",
    "        \n",
    "        if(input$disp == \"head\") {\n",
    "            return(head(dataInput()))\n",
    "        }\n",
    "        else {\n",
    "            return(dataInput())\n",
    "        }\n",
    "        \n",
    "    })\n",
    "        \n",
    "}\n",
    "\n",
    "# Run the application \n",
    "shinyApp(ui = ui, server = server)\n"
   ]
  },
  {
   "cell_type": "code",
   "execution_count": 1,
   "id": "7207567c-3447-4770-8bc8-da8ece7b0ab4",
   "metadata": {},
   "outputs": [],
   "source": [
    "library(shiny)\n",
    "\n",
    "ui <- fluidPage(\n",
    "  # Other UI elements here (e.g., data input, plots, etc.)\n",
    "  actionButton(\"model_button\", \"Model the Data\")\n",
    ")\n"
   ]
  },
  {
   "cell_type": "code",
   "execution_count": 2,
   "id": "33781805-1b9a-4485-8ed4-5a4afe1b2057",
   "metadata": {
    "tags": []
   },
   "outputs": [],
   "source": [
    "server <- function(input, output) {\n",
    "  # Other server logic here\n",
    "\n",
    "  # Reactive expression for modeling\n",
    "  model_regrex1.csv <- reactive({\n",
    "    if (input$model_button > 0) {\n",
    "      # Perform your linear modeling here\n",
    "      # Replace \"data\" with your actual data frame\n",
    "      # Replace \"response_var\" and \"predictor_vars\" with the appropriate column names\n",
    "      lm_model <- lm(y ~ x, data = data)\n",
    "      return(lm_model)\n",
    "    }\n",
    "  })\n",
    "}\n"
   ]
  },
  {
   "cell_type": "code",
   "execution_count": null,
   "id": "cdfe32d8-4103-4e90-91a8-467ad9e641dc",
   "metadata": {
    "tags": []
   },
   "outputs": [
    {
     "name": "stderr",
     "output_type": "stream",
     "text": [
      "\n",
      "Listening on http://127.0.0.1:6916\n",
      "\n"
     ]
    }
   ],
   "source": [
    "server <- function(input, output) {\n",
    "  # Other server logic here\n",
    "\n",
    "  # Reactive expression for modeling\n",
    "  model_regrex1.csv <- reactive({\n",
    "    if (input$model_button > 0) {\n",
    "      # Perform your linear modeling here\n",
    "      # Replace \"data\" with your actual data frame\n",
    "      # Replace \"response_var\" and \"predictor_vars\" with the appropriate column names\n",
    "      lm_model <- lm(y ~ x, data = data)\n",
    "      return(lm_model)\n",
    "    }\n",
    "  })\n",
    "\n",
    "  # Display the model summary when the button is clicked\n",
    "  output$model_summary <- renderPrint({\n",
    "    summary(model_data())\n",
    "  })\n",
    "}\n",
    "\n",
    "# Run the application \n",
    "shinyApp(ui = ui, server = server)"
   ]
  },
  {
   "cell_type": "code",
   "execution_count": 4,
   "id": "879bf4f5-10b5-46e6-a7ed-e2fa4309b007",
   "metadata": {
    "tags": []
   },
   "outputs": [],
   "source": [
    "ui <- fluidPage(\n",
    "  # Other UI elements here (e.g., data input, plots, etc.)\n",
    "  actionButton(\"model_button\", \"Model the Data\"),\n",
    "  verbatimTextOutput(\"model_summary\")\n",
    ")\n"
   ]
  },
  {
   "cell_type": "code",
   "execution_count": null,
   "id": "c09705f5-6caa-4e12-bf75-6fa6baee63ba",
   "metadata": {},
   "outputs": [],
   "source": []
  }
 ],
 "metadata": {
  "kernelspec": {
   "display_name": "R",
   "language": "R",
   "name": "ir"
  },
  "language_info": {
   "codemirror_mode": "r",
   "file_extension": ".r",
   "mimetype": "text/x-r-source",
   "name": "R",
   "pygments_lexer": "r",
   "version": "4.0.5"
  }
 },
 "nbformat": 4,
 "nbformat_minor": 5
}
